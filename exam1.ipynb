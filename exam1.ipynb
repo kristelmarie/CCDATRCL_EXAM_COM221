{
  "cells": [
    {
      "cell_type": "markdown",
      "metadata": {
        "id": "view-in-github",
        "colab_type": "text"
      },
      "source": [
        "<a href=\"https://colab.research.google.com/github/kristelmarie/CCDATRCL_EXAM_COM221/blob/main/exam1.ipynb\" target=\"_parent\"><img src=\"https://colab.research.google.com/assets/colab-badge.svg\" alt=\"Open In Colab\"/></a>"
      ]
    },
    {
      "cell_type": "markdown",
      "metadata": {
        "id": "yaz2B0KGFehP"
      },
      "source": [
        "# Midterm Exam 💛💙"
      ]
    },
    {
      "cell_type": "markdown",
      "metadata": {
        "id": "_DmK1ONEFehQ"
      },
      "source": [
        "**Instructions** ❗️❗️\n",
        "\n",
        "❌ Do not remove or modify the notebook **sections**, **subsections**, **exam questions** or **any text** in this python notebook\n",
        "\n",
        "✔️ Put your answer in the designated cells below each question"
      ]
    },
    {
      "cell_type": "markdown",
      "metadata": {
        "id": "TMCAXKWCFehR"
      },
      "source": [
        "## Search"
      ]
    },
    {
      "cell_type": "code",
      "execution_count": 141,
      "metadata": {
        "id": "Fy8nEBRRFehR"
      },
      "outputs": [],
      "source": [
        "def linearSearch(my_list, number):\n",
        "\n",
        "    index = 0\n",
        "\n",
        "    for i in my_list:\n",
        "\n",
        "        if my_list[index] == number:\n",
        "            return index\n",
        "\n",
        "        index = index + 1\n",
        "\n",
        "    return -1"
      ]
    },
    {
      "cell_type": "markdown",
      "metadata": {
        "id": "AjAevpueFehS"
      },
      "source": [
        "1. Using **linear search**, write a `findLargestIncrease()` function to find the largest increase in value between two adjacent numbers in your student number `(10 points)`\n",
        "\n",
        "    **Example:**\n",
        "\n",
        "    student_number = [2,0,2,2,6,2,5,1,9,3]\n",
        "\n",
        "    **Expected Output:**\n",
        "\n",
        "    findLargestIncrease(student_number)\n",
        "\n",
        "    Output: Between 1 and 9\n",
        "\n",
        "    **Explanation:**\n",
        "\n",
        "    From this student_number, the largest increase happened from number 1 to number 9"
      ]
    },
    {
      "cell_type": "code",
      "execution_count": 142,
      "metadata": {
        "id": "JE8nEfyJFehS",
        "colab": {
          "base_uri": "https://localhost:8080/"
        },
        "outputId": "2e6b5e4e-2a02-49c6-ba0e-4dd508ca7d8d"
      },
      "outputs": [
        {
          "output_type": "stream",
          "name": "stdout",
          "text": [
            "Find largest increase in  [2, 0, 2, 2, 1, 0, 4, 0, 3, 9]\n",
            "Output: Between 3 and 9\n"
          ]
        }
      ],
      "source": [
        "# put your answer here\n",
        "\n",
        "def findLargestIncrease(studentNum):\n",
        "    largestIncrease = 0\n",
        "    startIndex = 0\n",
        "    endIndex = 0\n",
        "\n",
        "    for i in range(len(studentNum) - 1):\n",
        "        increase = studentNum[i + 1] - studentNum[i]\n",
        "\n",
        "        if increase > largestIncrease:\n",
        "            largestIncrease = increase\n",
        "            startIndex = studentNum[i]\n",
        "            endIndex = studentNum[i + 1]\n",
        "\n",
        "    if largestIncrease == 0:\n",
        "        return \"No increase found!\"\n",
        "    else:\n",
        "        return \"Between \" + str(startIndex) + \" and \" + str(endIndex)\n",
        "\n",
        "studentNum = [2, 0, 2, 2, 1, 0, 4, 0, 3, 9]\n",
        "result = findLargestIncrease(studentNum)\n",
        "print(\"Find largest increase in \", studentNum)\n",
        "print(\"Output:\", result)"
      ]
    },
    {
      "cell_type": "markdown",
      "metadata": {
        "id": "nMyr1fNyFehS"
      },
      "source": [
        "2. Using **linear search**, write a `findLargestDecrease()` function to find the largest decrease in value between two adjacent numbers in your student number `(10 points)`\n",
        "\n",
        "    **Example:**\n",
        "\n",
        "    student_number = [2,0,2,2,6,2,5,1,9,3]\n",
        "\n",
        "    **Expected Output:**\n",
        "\n",
        "    findLargestDecrease(student_number)\n",
        "\n",
        "    Output: Between 9 and 3\n",
        "\n",
        "    **Explanation:**\n",
        "\n",
        "    From this student_number, the largest decrease happened from number 9 to number 3"
      ]
    },
    {
      "cell_type": "code",
      "execution_count": 143,
      "metadata": {
        "id": "bfMfQVbVFehS",
        "colab": {
          "base_uri": "https://localhost:8080/"
        },
        "outputId": "34573663-1fbd-4a77-b916-b2332389c1b2"
      },
      "outputs": [
        {
          "output_type": "stream",
          "name": "stdout",
          "text": [
            "Find largest decrease in  [2, 0, 2, 2, 1, 0, 4, 0, 3, 9]\n",
            "Output: Between 4 and 0\n"
          ]
        }
      ],
      "source": [
        "# put your answer here\n",
        "\n",
        "def findLargestDecrease(studentNum):\n",
        "    largestDecrease = 0\n",
        "    startIndex = 0\n",
        "    endIndex = 0\n",
        "\n",
        "    for i in range(len(studentNum) - 1):\n",
        "        decrease = studentNum[i] - studentNum[i + 1]\n",
        "\n",
        "        if decrease > largestDecrease:\n",
        "            largestDecrease = decrease\n",
        "            startIndex = studentNum[i]\n",
        "            endIndex = studentNum[i + 1]\n",
        "\n",
        "    if largestDecrease == 0:\n",
        "        return \"No decrease found!\"\n",
        "    else:\n",
        "        return \"Between \" + str(startIndex) + \" and \" + str(endIndex)\n",
        "\n",
        "studentNum = [2, 0, 2, 2, 1, 0, 4, 0, 3, 9]\n",
        "result = findLargestDecrease(studentNum)\n",
        "print(\"Find largest decrease in \", studentNum)\n",
        "print(\"Output:\", result)\n"
      ]
    },
    {
      "cell_type": "markdown",
      "metadata": {
        "id": "NtKSQn9QFehS"
      },
      "source": [
        "## Linked List"
      ]
    },
    {
      "cell_type": "code",
      "execution_count": 144,
      "metadata": {
        "id": "0HP5zyJcFehS"
      },
      "outputs": [],
      "source": [
        "class Node:\n",
        "\n",
        "    def __init__(self, data):\n",
        "        self.data = data\n",
        "        self.next = None  # null"
      ]
    },
    {
      "cell_type": "code",
      "execution_count": 145,
      "metadata": {
        "id": "A-8Uefe7FehS"
      },
      "outputs": [],
      "source": [
        "class LinkedList:\n",
        "\n",
        "    def __init__(self):\n",
        "        self.head = None\n",
        "\n",
        "    def traverse(self, node):\n",
        "        while node:\n",
        "            print(node.data, end=\" -> \")\n",
        "            node = node.next"
      ]
    },
    {
      "cell_type": "markdown",
      "metadata": {
        "id": "uPgIJJuSFehT"
      },
      "source": [
        "**Instructions** ❗️❗️\n",
        "\n",
        "Use the pre-defined linked list class/functions to create a linked list"
      ]
    },
    {
      "cell_type": "markdown",
      "metadata": {
        "id": "WIwpW7Q2FehT"
      },
      "source": [
        "1. Create a Singly linked list named **num_list** and print all of its elements. `(5 points)`\n",
        "\n",
        "- **num_list** should contain all digits of your student number.\n",
        "\n",
        "    **Expected Output:**\n",
        "\n",
        "    print(num_list)\n",
        "\n",
        "    [2, 0, 2, 2, 1, 2, 3, 4, 5, 6]"
      ]
    },
    {
      "cell_type": "code",
      "execution_count": 146,
      "metadata": {
        "id": "Lihv0JPiFehT",
        "colab": {
          "base_uri": "https://localhost:8080/"
        },
        "outputId": "665ee837-aaee-4df3-e488-7decda59ca22"
      },
      "outputs": [
        {
          "output_type": "stream",
          "name": "stdout",
          "text": [
            "2 -> 0 -> 2 -> 2 -> 1 -> 0 -> 4 -> 0 -> 3 -> 9 -> "
          ]
        }
      ],
      "source": [
        "# put your answer here\n",
        "\n",
        "num_list = LinkedList()\n",
        "\n",
        "num_list.head = Node (2)\n",
        "node_b = Node(0)\n",
        "node_c = Node(2)\n",
        "node_d = Node(2)\n",
        "node_e = Node(1)\n",
        "node_f = Node(0)\n",
        "node_g = Node(4)\n",
        "node_h = Node(0)\n",
        "node_i = Node(3)\n",
        "node_j = Node(9)\n",
        "\n",
        "num_list.head.next = node_b\n",
        "node_b.next = node_c\n",
        "node_c.next = node_d\n",
        "node_d.next = node_e\n",
        "node_e.next = node_f\n",
        "node_f.next = node_g\n",
        "node_g.next = node_h\n",
        "node_h.next = node_i\n",
        "node_i.next = node_j\n",
        "\n",
        "num_list.traverse(num_list.head)"
      ]
    },
    {
      "cell_type": "markdown",
      "metadata": {
        "id": "dqA2UYrYFehT"
      },
      "source": [
        "2. Write a `hasPrime()` function to test whether a prime number is in the last six digits of **num_list**. `(5 points)`\n",
        "\n",
        "- If a prime number is in the last six digits of **num_list**, the method should return **true**\n",
        "\n",
        "- If a prime number is not in the last six digits of **num_list**, the method should return **false**\n",
        "\n",
        "    **Expected Output:**\n",
        "\n",
        "    hasPrime(num_list)\n",
        "\n",
        "    True"
      ]
    },
    {
      "cell_type": "code",
      "execution_count": 161,
      "metadata": {
        "id": "GYwsQNz5FehT",
        "colab": {
          "base_uri": "https://localhost:8080/"
        },
        "outputId": "23730c58-fcac-4f91-aea1-d2b46710c48a"
      },
      "outputs": [
        {
          "output_type": "stream",
          "name": "stdout",
          "text": [
            "True\n"
          ]
        }
      ],
      "source": [
        "def isPrime(num):\n",
        "    if num < 2:\n",
        "        return False\n",
        "    for i in range(2, int(num**0.5) + 1):\n",
        "        if num % i == 0:\n",
        "            return False\n",
        "    return True\n",
        "\n",
        "def hasPrime(linked_list):\n",
        "    current = linked_list.head\n",
        "    count = 0\n",
        "    while count < len(studentNum) - 6:\n",
        "        current = current.next\n",
        "        count += 1\n",
        "    while current:\n",
        "        if isPrime(current.data):\n",
        "            return True\n",
        "        current = current.next\n",
        "    return False\n",
        "\n",
        "studentNum = [2, 0, 2, 2, 1, 0, 4, 0, 3, 9]\n",
        "num_list = LinkedList()\n",
        "\n",
        "for digit in studentNum:\n",
        "    new_node = Node(int(digit))\n",
        "    if not num_list.head:\n",
        "        num_list.head = new_node\n",
        "    else:\n",
        "        current = num_list.head\n",
        "        while current.next:\n",
        "            current = current.next\n",
        "        current.next = new_node\n",
        "\n",
        "result = hasPrime(num_list)\n",
        "print(result)"
      ]
    },
    {
      "cell_type": "markdown",
      "metadata": {
        "id": "5Qb0BOiwFehT"
      },
      "source": [
        "3. Write a `removeZeroes()` function to remove all occurrences of zeroes in **num_list**. `(5 points)`\n",
        "\n",
        "- If a zero is in **num_list**, return **num_list**\n",
        "\n",
        "- If there are no zeroes in **num_list**, return **\"no zeros found\"**\n",
        "\n",
        "    **Expected Output:**\n",
        "\n",
        "    removeZeroes(num_list)\n",
        "\n",
        "    [2, 2, 1, 2, 3, 4, 5, 6]"
      ]
    },
    {
      "cell_type": "code",
      "execution_count": 163,
      "metadata": {
        "id": "k1vAHUYuFehT",
        "colab": {
          "base_uri": "https://localhost:8080/"
        },
        "outputId": "c63baca3-4a25-4a56-9dd8-94b714d0ff0e"
      },
      "outputs": [
        {
          "output_type": "stream",
          "name": "stdout",
          "text": [
            "2 -> 2 -> 2 -> 1 -> 4 -> 3 -> 9 -> "
          ]
        }
      ],
      "source": [
        "# put your answer here\n",
        "\n",
        "def removeZeroes(linked_list):\n",
        "    current = linked_list.head\n",
        "    prev = None\n",
        "    foundZero = False\n",
        "\n",
        "    while current:\n",
        "        if current.data == 0:\n",
        "            foundZero = True\n",
        "            if prev is None:\n",
        "                linked_list.head = current.next\n",
        "            else:\n",
        "                prev.next = current.next\n",
        "            current = current.next\n",
        "        else:\n",
        "            prev = current\n",
        "            current = current.next\n",
        "\n",
        "    if foundZero:\n",
        "        return linked_list\n",
        "    else:\n",
        "        return \"no zeros found\"\n",
        "\n",
        "studentNum = [2, 0, 2, 2, 1, 0, 4, 0, 3, 9]\n",
        "num_list = LinkedList()\n",
        "\n",
        "for digit in studentNum:\n",
        "    new_node = Node(int(digit))\n",
        "    if not num_list.head:\n",
        "        num_list.head = new_node\n",
        "    else:\n",
        "        current = num_list.head\n",
        "        while current.next:\n",
        "            current = current.next\n",
        "        current.next = new_node\n",
        "\n",
        "result = removeZeroes(num_list)\n",
        "\n",
        "if isinstance(result, LinkedList):\n",
        "    result.traverse(result.head)\n",
        "else:\n",
        "    print(result)"
      ]
    },
    {
      "cell_type": "markdown",
      "metadata": {
        "id": "SKAlpglNFehT"
      },
      "source": [
        "4. Insert a dash symbol between the 4th and 5th digit in **num_list**. `(5 points)`\n",
        "\n",
        "    **Expected Output:**\n",
        "\n",
        "    print(num_list)\n",
        "\n",
        "    [2, 0, 2, 2, \"-\", 1, 2, 3, 4, 5, 6]"
      ]
    },
    {
      "cell_type": "code",
      "execution_count": 164,
      "metadata": {
        "id": "vF7fimZ-FehT",
        "colab": {
          "base_uri": "https://localhost:8080/"
        },
        "outputId": "52ca072e-4161-49d2-839e-c92d82ce7bfe"
      },
      "outputs": [
        {
          "output_type": "stream",
          "name": "stdout",
          "text": [
            "2 -> 0 -> 2 -> 2 -> - -> 1 -> 0 -> 4 -> 0 -> 3 -> 9 -> "
          ]
        }
      ],
      "source": [
        "# put your answer here\n",
        "\n",
        "def insert_dash(linked_list):\n",
        "    current = linked_list.head\n",
        "    count = 1\n",
        "\n",
        "    while current and count < 4:\n",
        "        current = current.next\n",
        "        count += 1\n",
        "\n",
        "    if current and current.next:\n",
        "        new_node = Node(\"-\")\n",
        "        new_node.next = current.next\n",
        "        current.next = new_node\n",
        "\n",
        "studentNum = [2, 0, 2, 2, 1, 0, 4, 0, 3, 9]\n",
        "num_list = LinkedList()\n",
        "\n",
        "for digit in studentNum:\n",
        "    new_node = Node(int(digit))\n",
        "    if not num_list.head:\n",
        "        num_list.head = new_node\n",
        "    else:\n",
        "        current = num_list.head\n",
        "        while current.next:\n",
        "            current = current.next\n",
        "        current.next = new_node\n",
        "\n",
        "insert_dash(num_list)\n",
        "num_list.traverse(num_list.head)"
      ]
    },
    {
      "cell_type": "markdown",
      "metadata": {
        "id": "KkC-LgdxFehT"
      },
      "source": [
        "## Stack"
      ]
    },
    {
      "cell_type": "code",
      "execution_count": 155,
      "metadata": {
        "id": "UYTqB1u_FehU"
      },
      "outputs": [],
      "source": [
        "# Creating a stack\n",
        "def create_stack():\n",
        "    stack = []\n",
        "    return stack\n",
        "\n",
        "\n",
        "def print_stack(stack):\n",
        "\n",
        "    if (check_empty(stack)):\n",
        "        return \"stack is empty\"\n",
        "\n",
        "    # Create a copy of the stack and reverse the elements\n",
        "    tempStack = stack.copy()\n",
        "    tempStack.reverse()\n",
        "\n",
        "    # Print all elements using a loop\n",
        "    for i in tempStack:\n",
        "        print(i)\n",
        "\n",
        "    # Delete the copy to free up memory\n",
        "    del tempStack\n",
        "\n",
        "# Creating an empty stack\n",
        "\n",
        "\n",
        "def check_empty(stack):\n",
        "    return len(stack) == 0\n",
        "\n",
        "\n",
        "# Adding items into the stack\n",
        "def push(stack, item):\n",
        "    stack.append(item)\n",
        "    print(\"pushed item: \" + item)\n",
        "\n",
        "\n",
        "# Removing an element from the stack\n",
        "def pop(stack):\n",
        "    if (check_empty(stack)):\n",
        "        return \"stack is empty\"\n",
        "\n",
        "    return stack.pop()\n",
        "\n",
        "\n",
        "def peek(stack):\n",
        "\n",
        "    # Use negative indexing to display the last element of the list\n",
        "    print(stack[-1])"
      ]
    },
    {
      "cell_type": "markdown",
      "metadata": {
        "id": "wLAQchs8FehU"
      },
      "source": [
        "**Instructions** ❗️❗️\n",
        "\n",
        "Use the pre-defined stack class/functions to create a stack"
      ]
    },
    {
      "cell_type": "markdown",
      "metadata": {
        "id": "37cg9BoCFehU"
      },
      "source": [
        "1. Create two (2) stacks named **name_stack** and **num_stack** `(5 points)`\n",
        "\n",
        "- **name_stack** should contain all letters of your first name.\n",
        "- **num_stack** should contain all digits of your student number.\n",
        "\n",
        "    **Expected Output:**\n",
        "\n",
        "    print(name_stack)\n",
        "\n",
        "    ['E', 'L', 'I', 'Z', 'E', 'R']\n",
        "\n",
        "    print(num_stack)\n",
        "\n",
        "    [2,0,2,2,1,2,3,4,5,6]"
      ]
    },
    {
      "cell_type": "code",
      "execution_count": 156,
      "metadata": {
        "id": "HlUIUQzQFehU",
        "colab": {
          "base_uri": "https://localhost:8080/"
        },
        "outputId": "33cc2f0f-659f-4f0b-830d-102e2ce527e1"
      },
      "outputs": [
        {
          "output_type": "stream",
          "name": "stdout",
          "text": [
            "pushed item: K\n",
            "pushed item: R\n",
            "pushed item: I\n",
            "pushed item: S\n",
            "pushed item: T\n",
            "pushed item: E\n",
            "pushed item: L\n",
            "['K', 'R', 'I', 'S', 'T', 'E', 'L']\n",
            "pushed item: [2, 0, 2, 2, 1, 0, 4, 0, 3, 9]\n",
            "[2, 0, 2, 2, 1, 0, 4, 0, 3, 9]\n"
          ]
        }
      ],
      "source": [
        "# put your answer here\n",
        "\n",
        "name_stack = create_stack()\n",
        "\n",
        "push(name_stack, \"K\")\n",
        "push(name_stack, \"R\")\n",
        "push(name_stack, \"I\")\n",
        "push(name_stack, \"S\")\n",
        "push(name_stack, \"T\")\n",
        "push(name_stack, \"E\")\n",
        "push(name_stack, \"L\")\n",
        "print(name_stack)\n",
        "\n",
        "num_stack = create_stack()\n",
        "\n",
        "push(num_stack, \"[2, 0, 2, 2, 1, 0, 4, 0, 3, 9]\")\n",
        "print_stack(num_stack)\n"
      ]
    },
    {
      "cell_type": "markdown",
      "metadata": {
        "id": "8cySe9LXFehU"
      },
      "source": [
        "2. Create a stack named **my_stack** that follows the following format: `(5 points)`\n",
        "\n",
        "- The first element should be the **5th digit in your student number**\n",
        "- The succeeding elements should be the letters of your **first name**\n",
        "- The last element should be the **last digit of your student number**\n",
        "\n",
        "    **Expected Output:**\n",
        "\n",
        "    my_stack = [1, E, L, I, Z, E, R, 6]"
      ]
    },
    {
      "cell_type": "code",
      "execution_count": 157,
      "metadata": {
        "id": "bEnCoAhjFehU",
        "colab": {
          "base_uri": "https://localhost:8080/"
        },
        "outputId": "1d427f25-7e57-4b63-da8a-4073aea07597"
      },
      "outputs": [
        {
          "output_type": "stream",
          "name": "stdout",
          "text": [
            "my_stack =  [1, 'K', 'R', 'I', 'S', 'T', 'E', 'L', 9]\n"
          ]
        }
      ],
      "source": [
        "# put your answer here\n",
        "\n",
        "studentNum = \"2022104039\"\n",
        "myName = \"KRISTEL\"\n",
        "my_stack = []\n",
        "\n",
        "# 5th digit in my student number\n",
        "my_stack.append(int(studentNum[4]))\n",
        "\n",
        "for letter in myName:\n",
        "    my_stack.append(letter)\n",
        "\n",
        "# last digit in my student number\n",
        "my_stack.append(int(studentNum[-1]))\n",
        "\n",
        "print(\"my_stack = \", my_stack)"
      ]
    },
    {
      "cell_type": "markdown",
      "metadata": {
        "id": "8a8_KP5nFehU"
      },
      "source": [
        "3. Write a `verifyStack()` function that will take in `my_stack` and check if its format has been followed `(10 points)`\n",
        "\n",
        "- Return **True** if the format has been followed\n",
        "- Return **False** if the format was not followed\n",
        "- Verify the format by checking the contents of **my_stack** with **name_stack** and **num_stack**\n",
        "\n",
        "    **Expected Output:**\n",
        "\n",
        "    my_stack = [1, E, L, I, Z, E, R, 6]\n",
        "\n",
        "    verifyStack(my_stack)\n",
        "\n",
        "    True\n",
        "\n",
        "    my_stack = [1, S, L, I, Z, E, R, 7]\n",
        "\n",
        "    verifyStack(my_stack)\n",
        "\n",
        "    False"
      ]
    },
    {
      "cell_type": "code",
      "execution_count": 158,
      "metadata": {
        "id": "RdANSxD0FehU",
        "colab": {
          "base_uri": "https://localhost:8080/"
        },
        "outputId": "5e7bf0bd-ae26-4831-85d9-d0ec4bc4367b"
      },
      "outputs": [
        {
          "output_type": "stream",
          "name": "stdout",
          "text": [
            "my_stack = [1, 'K', 'R', 'I', 'S', 'T', 'E', 'L', 9]\n",
            "verifyStack(my_stack) = True\n"
          ]
        }
      ],
      "source": [
        "# put your answer here\n",
        "\n",
        "studentNum = \"2022104039\"\n",
        "myName = \"KRISTEL\"\n",
        "\n",
        "name_stack = [char for char in myName]\n",
        "num_stack = [int(digit) for digit in studentNum[-6:]]\n",
        "my_stack = []\n",
        "\n",
        "# 5th digit in my student number\n",
        "my_stack.append(int(studentNum[4]))\n",
        "\n",
        "for letter in myName:\n",
        "    my_stack.append(letter)\n",
        "\n",
        "# last digit in my student number\n",
        "my_stack.append(int(studentNum[-1]))\n",
        "\n",
        "# Create a function to verify my_stack format\n",
        "def verifyStack(my_stack):\n",
        "    if my_stack == num_stack or name_stack:\n",
        "        return True\n",
        "    else:\n",
        "        return False\n",
        "\n",
        "print(\"my_stack =\", my_stack)\n",
        "print(\"verifyStack(my_stack) =\", verifyStack(my_stack))\n"
      ]
    },
    {
      "cell_type": "markdown",
      "metadata": {
        "id": "UC5C64B2FehU"
      },
      "source": [
        "## Queue"
      ]
    },
    {
      "cell_type": "code",
      "execution_count": 159,
      "metadata": {
        "id": "NJJ0j0LHFehU"
      },
      "outputs": [],
      "source": [
        "class Queue:\n",
        "    def __init__(self):\n",
        "        self.queue = []\n",
        "\n",
        "    # Add an element\n",
        "    def enqueue(self, item):\n",
        "        self.queue.append(item)\n",
        "\n",
        "    # Remove an element\n",
        "    def dequeue(self):\n",
        "        if len(self.queue) < 1:\n",
        "            return None\n",
        "        return self.queue.pop(0)\n",
        "\n",
        "    # Display  the queue\n",
        "    def display(self):\n",
        "        print(self.queue)\n",
        "\n",
        "    def size(self):\n",
        "        return len(self.queue)\n",
        "\n",
        "    def peek(self):\n",
        "        return self.queue[0]"
      ]
    },
    {
      "cell_type": "markdown",
      "metadata": {
        "id": "80OekpbeFehV"
      },
      "source": [
        "**Instructions** ❗️❗️\n",
        "\n",
        "Use the pre-defined queue class/functions to create a Queue"
      ]
    },
    {
      "cell_type": "markdown",
      "metadata": {
        "id": "_Hf0OP5cFehV"
      },
      "source": [
        "1. Create a simple queue named **num_queue** `(5 points)`\n",
        "\n",
        "- **num_queue** should contain all digits of your student number.\n",
        "\n",
        "    **Expected Output:**\n",
        "\n",
        "    print(num_queue)\n",
        "\n",
        "    [2,0,2,2,1,2,3,4,5,6]"
      ]
    },
    {
      "cell_type": "code",
      "execution_count": 148,
      "metadata": {
        "id": "_mgmE4ArFehV",
        "colab": {
          "base_uri": "https://localhost:8080/"
        },
        "outputId": "cd39f398-1791-4311-cf30-2ab9a54b8031"
      },
      "outputs": [
        {
          "output_type": "stream",
          "name": "stdout",
          "text": [
            "[2, 0, 2, 2, 1, 0, 4, 0, 3, 9]\n"
          ]
        }
      ],
      "source": [
        "num_queue = Queue()\n",
        "\n",
        "num_queue.enqueue(2)\n",
        "num_queue.enqueue(0)\n",
        "num_queue.enqueue(2)\n",
        "num_queue.enqueue(2)\n",
        "num_queue.enqueue(1)\n",
        "num_queue.enqueue(0)\n",
        "num_queue.enqueue(4)\n",
        "num_queue.enqueue(0)\n",
        "num_queue.enqueue(3)\n",
        "num_queue.enqueue(9)\n",
        "\n",
        "num_queue.display()"
      ]
    },
    {
      "cell_type": "markdown",
      "metadata": {
        "id": "1pHG8t6DFehV"
      },
      "source": [
        "2. Write a `getMax()` or `getMin()` function for **num_queue** `(5 points)`\n",
        "\n",
        "- If your student number ends with an odd number, create a `getMax()` function that will return the largest number in **num_queue**\n",
        "- If your student number ends with an even number, create a `getMin()` function that will return the lowest number in **num_queue**\n",
        "\n",
        "    **Expected Output for getMax():**\n",
        "\n",
        "    getMax(num_queue)\n",
        "\n",
        "    6\n",
        "\n",
        "    **Expected Output for getMin():**\n",
        "\n",
        "    getMin(num_queue)\n",
        "\n",
        "    0"
      ]
    },
    {
      "cell_type": "code",
      "execution_count": 149,
      "metadata": {
        "id": "itj2U610FehV",
        "colab": {
          "base_uri": "https://localhost:8080/"
        },
        "outputId": "5b07a3a1-f18f-46dd-b99a-e79e04d6ea8d"
      },
      "outputs": [
        {
          "output_type": "stream",
          "name": "stdout",
          "text": [
            "getMax(num_queue):\n",
            " 9\n"
          ]
        }
      ],
      "source": [
        "# put your answer here\n",
        "\n",
        "studentNum = \"2022104039\"\n",
        "\n",
        "num_queue = [2, 0, 2, 2, 1, 0, 4, 0, 3, 9]\n",
        "\n",
        "def getMax(num_queue):\n",
        "    if int(studentNum[-1]) % 2 == 1:  # If the last digit is odd\n",
        "        return max(num_queue)\n",
        "    else:\n",
        "        return None\n",
        "\n",
        "def getMin(num_queue):\n",
        "    if int(studentNum[-1]) % 2 == 0:  # If the last digit is even\n",
        "        return min(num_queue)\n",
        "    else:\n",
        "        return None\n",
        "\n",
        "# if-else statement to identify the last digit of the student number and display the result\n",
        "if int(studentNum[-1]) % 2 == 1:\n",
        "    result = getMax(num_queue)\n",
        "    print(\"getMax(num_queue):\\n\", result)\n",
        "else:\n",
        "    result = getMin(num_queue)\n",
        "    print(\"getMin(num_queue):\\n\", result)\n"
      ]
    },
    {
      "cell_type": "markdown",
      "metadata": {
        "id": "YkgmP6GwFehV"
      },
      "source": [
        "3. Write a `getOdd()` or `getEven()` function for  **num_queue** `(5 points)`\n",
        "\n",
        "- If your student number ends with an **odd number**, create a `getOdd()` function that will return all odd numbers in **num_queue**\n",
        "- If your student number ends with an **even number**, create a `getEven()` function that will return all even numbers in **num_queue**\n",
        "\n",
        "    **Expected Output for getOdd():**\n",
        "\n",
        "    getOdd(num_queue)\n",
        "\n",
        "    [1, 3, 5]\n",
        "\n",
        "    **Expected Output for getEven():**\n",
        "\n",
        "    getEven(num_queue)\n",
        "\n",
        "    [0, 2, 4, 6]"
      ]
    },
    {
      "cell_type": "code",
      "execution_count": 150,
      "metadata": {
        "id": "2Bc7E1zNFehV",
        "colab": {
          "base_uri": "https://localhost:8080/"
        },
        "outputId": "1e732b81-8c8e-4726-d48c-6f377aafb88d"
      },
      "outputs": [
        {
          "output_type": "stream",
          "name": "stdout",
          "text": [
            "getOdd(num_queue)\n",
            " [1, 3, 9]\n"
          ]
        }
      ],
      "source": [
        "# put your answer here\n",
        "\n",
        "studentNum = \"2022104039\"\n",
        "\n",
        "num_queue = [2, 0, 2, 2, 1, 0, 4, 0, 3, 9]\n",
        "\n",
        "def getOdd(num_queue):\n",
        "    if int(studentNum[-1]) % 2 == 1:  # If the last digit is odd\n",
        "        return [num for num in num_queue if num % 2 == 1]\n",
        "    else:\n",
        "        return \"Function not applicable.\"\n",
        "\n",
        "def getEven(num_queue):\n",
        "    if int(studentNum[-1]) % 2 == 0:  # If the last digit is even\n",
        "        return [num for num in num_queue if num % 2 == 0]\n",
        "    else:\n",
        "        return \"Function not applicable.\"\n",
        "\n",
        "# if-else statement to identify the last digit of the student number and display the result\n",
        "if int(studentNum[-1]) % 2 == 1:\n",
        "    result = getOdd(num_queue)\n",
        "    print(\"getOdd(num_queue)\\n\", result)\n",
        "else:\n",
        "    result = getEven(num_queue)\n",
        "    print(\"getEven(num_queue)\\n\", result)"
      ]
    },
    {
      "cell_type": "markdown",
      "metadata": {
        "id": "kuzWF5g4FehV"
      },
      "source": [
        "4. Write a `removeDup()` function that will remove all duplicates in **num_queue** `(5 points)`\n",
        "\n",
        "    **Expected Output:**\n",
        "\n",
        "    removeDup(num_queue)\n",
        "\n",
        "    [2,0,1,3,4,5,6]"
      ]
    },
    {
      "cell_type": "code",
      "execution_count": 151,
      "metadata": {
        "id": "I8LeQP8MFehY",
        "colab": {
          "base_uri": "https://localhost:8080/"
        },
        "outputId": "b4419406-e5de-4bce-e8ca-07293564921d"
      },
      "outputs": [
        {
          "output_type": "stream",
          "name": "stdout",
          "text": [
            "removeDup(num_queue):\n",
            " [2, 0, 1, 4, 3, 9]\n"
          ]
        }
      ],
      "source": [
        "# put your answer here\n",
        "\n",
        "num_queue = [2, 0, 2, 2, 1, 0, 4, 0, 3, 9]\n",
        "\n",
        "def removeDup(num_queue):\n",
        "    unique_elements = []\n",
        "\n",
        "    for num in num_queue:\n",
        "        if num not in unique_elements:\n",
        "            unique_elements.append(num)\n",
        "\n",
        "    return unique_elements\n",
        "\n",
        "result = removeDup(num_queue)\n",
        "print(\"removeDup(num_queue):\\n\", result)"
      ]
    },
    {
      "cell_type": "markdown",
      "metadata": {
        "id": "LVfZTh8YFehZ"
      },
      "source": [
        "## Sort"
      ]
    },
    {
      "cell_type": "markdown",
      "metadata": {
        "id": "bm9lonfzFehZ"
      },
      "source": [
        "**Instructions** ❗️❗️\n",
        "\n",
        "Use the any sorting algoritms"
      ]
    },
    {
      "cell_type": "markdown",
      "metadata": {
        "id": "EJTlxhEdFehZ"
      },
      "source": [
        "1. Using any sorting algorithm, sort the **last 6 digits** of your student number in ascending order `(5 points)`\n",
        "\n",
        "    **Example:**\n",
        "\n",
        "    student_number = [2,0,2,2,6,2,5,1,3,4]\n",
        "\n",
        "    **Expected Output:**\n",
        "\n",
        "    print(student_number)\n",
        "\n",
        "    [2,0,2,2,1,2,3,4,5,6]\n"
      ]
    },
    {
      "cell_type": "code",
      "execution_count": 152,
      "metadata": {
        "id": "MkZKfveOFehZ",
        "colab": {
          "base_uri": "https://localhost:8080/"
        },
        "outputId": "bdf12877-5085-4061-eeaa-a831a5105583"
      },
      "outputs": [
        {
          "output_type": "stream",
          "name": "stdout",
          "text": [
            "Student Number: [2, 0, 2, 2, 1, 0, 4, 0, 3, 9]\n",
            "Sorted Student Number: [2, 0, 2, 2, 0, 0, 1, 3, 4, 9]\n"
          ]
        }
      ],
      "source": [
        "# put your answer here\n",
        "\n",
        "student_number = [2, 0, 2, 2, 1, 0, 4, 0, 3, 9]\n",
        "\n",
        "lastSixDigits = student_number[-6:]\n",
        "\n",
        "maxValue = max(lastSixDigits)\n",
        "minValue = min(lastSixDigits)\n",
        "\n",
        "countingArray = [0] * (maxValue - minValue + 1)\n",
        "\n",
        "for digit in lastSixDigits:\n",
        "    countingArray[digit - minValue] += 1\n",
        "\n",
        "sortedLastSixDigits = []\n",
        "for i in range(minValue, maxValue + 1):\n",
        "    sortedLastSixDigits.extend([i] * countingArray[i - minValue])\n",
        "\n",
        "student_number[-6:] = sortedLastSixDigits\n",
        "\n",
        "print(\"Student Number: [2, 0, 2, 2, 1, 0, 4, 0, 3, 9]\")\n",
        "print(\"Sorted Student Number:\", student_number)"
      ]
    },
    {
      "cell_type": "markdown",
      "metadata": {
        "id": "sC2JZRZMFehZ"
      },
      "source": [
        "2. Using your student_number, separately sort the even numbers in **increasing order** and the odd numbers in **decreasing order** `(15 points)`\n",
        "\n",
        "    **Example:**\n",
        "\n",
        "    student_number = [2,0,2,2,1,2,3,4,5,6]\n",
        "\n",
        "    **Expected Output:**\n",
        "\n",
        "    print(student_number)\n",
        "\n",
        "    [0,2,2,2,2,4,6,5,3,1]"
      ]
    },
    {
      "cell_type": "code",
      "execution_count": 153,
      "metadata": {
        "id": "hWOh_ohcFehZ",
        "colab": {
          "base_uri": "https://localhost:8080/"
        },
        "outputId": "da638558-7e4d-408a-d955-b68c8ce72544"
      },
      "outputs": [
        {
          "output_type": "stream",
          "name": "stdout",
          "text": [
            "[0, 0, 0, 2, 2, 2, 4, 9, 3, 1]\n"
          ]
        }
      ],
      "source": [
        "# put your answer here\n",
        "\n",
        "student_number = [2, 0, 2, 2, 1, 0, 4, 0, 3, 9]\n",
        "\n",
        "evenNum = [num for num in student_number if num % 2 == 0]\n",
        "oddNum = [num for num in student_number if num % 2 != 0]\n",
        "\n",
        "evenNum.sort()\n",
        "oddNum.sort(reverse=True)\n",
        "sortedStudentNum = evenNum + oddNum\n",
        "student_number[:] = sortedStudentNum\n",
        "\n",
        "print(student_number)"
      ]
    }
  ],
  "metadata": {
    "kernelspec": {
      "display_name": "Python 3",
      "language": "python",
      "name": "python3"
    },
    "language_info": {
      "codemirror_mode": {
        "name": "ipython",
        "version": 3
      },
      "file_extension": ".py",
      "mimetype": "text/x-python",
      "name": "python",
      "nbconvert_exporter": "python",
      "pygments_lexer": "ipython3",
      "version": "3.9.13"
    },
    "orig_nbformat": 4,
    "colab": {
      "provenance": [],
      "include_colab_link": true
    }
  },
  "nbformat": 4,
  "nbformat_minor": 0
}